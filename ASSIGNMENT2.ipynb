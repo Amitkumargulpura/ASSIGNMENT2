{
 "cells": [
  {
   "cell_type": "code",
   "execution_count": 8,
   "id": "4a38dc78-c990-47c4-ae3d-9a8e60f723c1",
   "metadata": {},
   "outputs": [
    {
     "data": {
      "text/plain": [
       "\"ANS1\\nTwo method are  given to write comment in python code \\n1.single line comment ('#' is used for this purpose )\\n2.multi line comment ()('''''') three inverted double commas are used for multi line comment both side of comment \""
      ]
     },
     "execution_count": 8,
     "metadata": {},
     "output_type": "execute_result"
    }
   ],
   "source": [
    "\"\"\"ANS1\n",
    "Two method are  given to write comment in python code \n",
    "1.single line comment ('#' is used for this purpose )\n",
    "2.multi line comment (\"\"\"\"\"\")('''''') three inverted double commas are used for multi line comment both side of comment \"\"\" "
   ]
  },
  {
   "cell_type": "code",
   "execution_count": 2,
   "id": "3027624b-2563-45b8-b34b-9d9d84514dc8",
   "metadata": {},
   "outputs": [
    {
     "data": {
      "text/plain": [
       "'Varibles are basically place holders for some data values for example if we have a int type  data value 32 then we can store it in a variable \\nlike  a = 32 (varible_name = value)  many type of data we have int ,float ,complex,string etc. '"
      ]
     },
     "execution_count": 2,
     "metadata": {},
     "output_type": "execute_result"
    }
   ],
   "source": [
    "\"\"\"ANSWER 2\"\"\"\n",
    "\"\"\"Varibles are basically place holders for some data values for example if we have a int type  data value 32 then we can store it in a variable \n",
    "like  a = 32 (varible_name = value)  many type of data we have int ,float ,complex,string etc. \"\"\"\n",
    "\n"
   ]
  },
  {
   "cell_type": "code",
   "execution_count": 5,
   "id": "449dea80-2f3c-4558-acb9-788ccdde52b3",
   "metadata": {},
   "outputs": [],
   "source": [
    "my_name =\"amit \" #declaring my_name variable  and assiging string type data amit  \n"
   ]
  },
  {
   "cell_type": "code",
   "execution_count": 7,
   "id": "77d7ac5d-a568-474c-8baf-15fe9910409b",
   "metadata": {},
   "outputs": [
    {
     "data": {
      "text/plain": [
       "'ANSWER 3  ,IN pyhton we can convert one data type to another type using example we can understand '"
      ]
     },
     "execution_count": 7,
     "metadata": {},
     "output_type": "execute_result"
    }
   ],
   "source": [
    "\"\"\"ANSWER 3  ,IN pyhton we can convert one data type to another type using example we can understand \"\"\""
   ]
  },
  {
   "cell_type": "code",
   "execution_count": 8,
   "id": "042a2d0f-08d7-474a-bb3a-5122722ee1a2",
   "metadata": {},
   "outputs": [],
   "source": [
    "my_rollnumber = 21 "
   ]
  },
  {
   "cell_type": "code",
   "execution_count": 9,
   "id": "80972109-2fff-4546-bf80-f1fbad7dbfc0",
   "metadata": {},
   "outputs": [
    {
     "data": {
      "text/plain": [
       "int"
      ]
     },
     "execution_count": 9,
     "metadata": {},
     "output_type": "execute_result"
    }
   ],
   "source": [
    "type(my_rollnumber)"
   ]
  },
  {
   "cell_type": "code",
   "execution_count": 10,
   "id": "6942fd17-e370-4ec0-a163-0aaf879485d7",
   "metadata": {},
   "outputs": [],
   "source": [
    "number = float(my_rollnumber)"
   ]
  },
  {
   "cell_type": "code",
   "execution_count": 11,
   "id": "121310d1-4cf7-4de6-9d21-7116d7b18836",
   "metadata": {},
   "outputs": [
    {
     "data": {
      "text/plain": [
       "21.0"
      ]
     },
     "execution_count": 11,
     "metadata": {},
     "output_type": "execute_result"
    }
   ],
   "source": [
    "number "
   ]
  },
  {
   "cell_type": "code",
   "execution_count": 12,
   "id": "6aa2085f-b5db-4ac5-b55b-ecafb994e3e8",
   "metadata": {},
   "outputs": [
    {
     "data": {
      "text/plain": [
       "float"
      ]
     },
     "execution_count": 12,
     "metadata": {},
     "output_type": "execute_result"
    }
   ],
   "source": [
    "type(number) # so we have changed int type of data to float type data "
   ]
  },
  {
   "cell_type": "code",
   "execution_count": 1,
   "id": "131e8289-4b77-47ee-9877-4c483b9c03e0",
   "metadata": {},
   "outputs": [
    {
     "data": {
      "text/plain": [
       "'ANSWER 5'"
      ]
     },
     "execution_count": 1,
     "metadata": {},
     "output_type": "execute_result"
    }
   ],
   "source": [
    "\"\"\"ANSWER 5\"\"\""
   ]
  },
  {
   "cell_type": "code",
   "execution_count": 5,
   "id": "db6da402-9faa-4b90-841f-c3dd4f95b858",
   "metadata": {},
   "outputs": [],
   "source": [
    "my_list = [1, 2, 3, 4, 5]"
   ]
  },
  {
   "cell_type": "code",
   "execution_count": 6,
   "id": "c39d8d21-1fc6-49f8-a2c0-ce3da2b58e12",
   "metadata": {},
   "outputs": [
    {
     "data": {
      "text/plain": [
       "[2, 3]"
      ]
     },
     "execution_count": 6,
     "metadata": {},
     "output_type": "execute_result"
    }
   ],
   "source": [
    "my_list[1:3:1]"
   ]
  },
  {
   "cell_type": "code",
   "execution_count": 7,
   "id": "1f6a8639-fda5-4781-b591-96866629267a",
   "metadata": {},
   "outputs": [
    {
     "data": {
      "text/plain": [
       "'ANSWER6     In mathematics a complex number can be represented as a+ib where a and b are real number and i is \\ncomplex number or imaginary number (-1)^1/2 hence complex number is sum of real and imaginary number but in python \\nit is represented as a +jb where j is imaginary number \\n'"
      ]
     },
     "execution_count": 7,
     "metadata": {},
     "output_type": "execute_result"
    }
   ],
   "source": [
    "'''ANSWER6     In mathematics a complex number can be represented as a+ib where a and b are real number and i is \n",
    "complex number or imaginary number (-1)^1/2 hence complex number is sum of real and imaginary number but in python \n",
    "it is represented as a +jb where j is imaginary number \n",
    "'''"
   ]
  },
  {
   "cell_type": "code",
   "execution_count": 8,
   "id": "a633614a-7599-496a-b0b8-5639ebd3deff",
   "metadata": {},
   "outputs": [],
   "source": [
    "a= complex(3,4)"
   ]
  },
  {
   "cell_type": "code",
   "execution_count": 9,
   "id": "ef4d1a73-af13-4953-a800-7169c797ebbd",
   "metadata": {},
   "outputs": [
    {
     "data": {
      "text/plain": [
       "(3+4j)"
      ]
     },
     "execution_count": 9,
     "metadata": {},
     "output_type": "execute_result"
    }
   ],
   "source": [
    "a"
   ]
  },
  {
   "cell_type": "code",
   "execution_count": 10,
   "id": "89406cca-2b11-4814-af57-b14de7a94047",
   "metadata": {},
   "outputs": [
    {
     "data": {
      "text/plain": [
       "complex"
      ]
     },
     "execution_count": 10,
     "metadata": {},
     "output_type": "execute_result"
    }
   ],
   "source": [
    "type(a)"
   ]
  },
  {
   "cell_type": "code",
   "execution_count": 11,
   "id": "88536a5a-0e0e-447c-a82b-d088ec39f081",
   "metadata": {},
   "outputs": [
    {
     "data": {
      "text/plain": [
       "'ANSWER7   In pyhton  to declare a variable we simply write name of variable and assigning value \\nto it '"
      ]
     },
     "execution_count": 11,
     "metadata": {},
     "output_type": "execute_result"
    }
   ],
   "source": [
    "'''ANSWER7   In pyhton  to declare a variable we simply write name of variable and assigning value \n",
    "to it '''"
   ]
  },
  {
   "cell_type": "code",
   "execution_count": 12,
   "id": "7a6f0d63-7de3-4438-8cbf-e1f3db842ccf",
   "metadata": {},
   "outputs": [],
   "source": [
    "my_name ='amit' #declare a variable my_name and assignig 'amit' string type data"
   ]
  },
  {
   "cell_type": "code",
   "execution_count": 13,
   "id": "e615969f-2a4b-45e4-9237-0ceb39c1e87d",
   "metadata": {},
   "outputs": [
    {
     "data": {
      "text/plain": [
       "str"
      ]
     },
     "execution_count": 13,
     "metadata": {},
     "output_type": "execute_result"
    }
   ],
   "source": [
    "type(my_name)"
   ]
  },
  {
   "cell_type": "code",
   "execution_count": 14,
   "id": "07179da4-259b-4f47-830d-fa6b0418e2f2",
   "metadata": {},
   "outputs": [
    {
     "data": {
      "text/plain": [
       "'ANSWER8 '"
      ]
     },
     "execution_count": 14,
     "metadata": {},
     "output_type": "execute_result"
    }
   ],
   "source": [
    "'''ANSWER8 '''"
   ]
  },
  {
   "cell_type": "code",
   "execution_count": 15,
   "id": "96e309b4-c1f2-49d8-b511-9e6b117f1b23",
   "metadata": {},
   "outputs": [],
   "source": [
    "price =9.99"
   ]
  },
  {
   "cell_type": "code",
   "execution_count": 16,
   "id": "dc81018c-5419-48f9-aac6-a3ec11fe343d",
   "metadata": {},
   "outputs": [
    {
     "data": {
      "text/plain": [
       "float"
      ]
     },
     "execution_count": 16,
     "metadata": {},
     "output_type": "execute_result"
    }
   ],
   "source": [
    "type(price)"
   ]
  },
  {
   "cell_type": "code",
   "execution_count": 17,
   "id": "372b4deb-8887-4830-8a4e-4e6373113168",
   "metadata": {},
   "outputs": [
    {
     "data": {
      "text/plain": [
       "'ANSWER9'"
      ]
     },
     "execution_count": 17,
     "metadata": {},
     "output_type": "execute_result"
    }
   ],
   "source": [
    "'''ANSWER9'''\n"
   ]
  },
  {
   "cell_type": "code",
   "execution_count": 18,
   "id": "5c55e373-3c08-4f1d-995a-885f31b5fb31",
   "metadata": {},
   "outputs": [],
   "source": [
    "name = 'Amit kumar'"
   ]
  },
  {
   "cell_type": "code",
   "execution_count": 19,
   "id": "8212e765-2b7e-4397-8ca3-d6a4c0620ffb",
   "metadata": {},
   "outputs": [
    {
     "data": {
      "text/plain": [
       "'Amit kumar'"
      ]
     },
     "execution_count": 19,
     "metadata": {},
     "output_type": "execute_result"
    }
   ],
   "source": [
    "name     #this show what is value in this varible "
   ]
  },
  {
   "cell_type": "code",
   "execution_count": 20,
   "id": "e1dbff8d-ccad-4b5c-86c9-ed73a98d9ce2",
   "metadata": {},
   "outputs": [
    {
     "data": {
      "text/plain": [
       "str"
      ]
     },
     "execution_count": 20,
     "metadata": {},
     "output_type": "execute_result"
    }
   ],
   "source": [
    "type(name)\n"
   ]
  },
  {
   "cell_type": "code",
   "execution_count": 21,
   "id": "9955d6eb-479d-465c-8bab-5d12dba42b36",
   "metadata": {},
   "outputs": [
    {
     "name": "stdout",
     "output_type": "stream",
     "text": [
      "Amit kumar\n"
     ]
    }
   ],
   "source": [
    "print(name)    #this is correct  way to print the vale of the variable "
   ]
  },
  {
   "cell_type": "code",
   "execution_count": 22,
   "id": "b9e7b2c2-e4c4-465a-9aec-0176ce32a2ca",
   "metadata": {},
   "outputs": [
    {
     "data": {
      "text/plain": [
       "'ANSWER10'"
      ]
     },
     "execution_count": 22,
     "metadata": {},
     "output_type": "execute_result"
    }
   ],
   "source": [
    "'''ANSWER10'''"
   ]
  },
  {
   "cell_type": "code",
   "execution_count": 23,
   "id": "07c34b75-fb86-4050-98b1-c630cd7e1180",
   "metadata": {},
   "outputs": [],
   "source": [
    " my_world = \"Hello, World!\""
   ]
  },
  {
   "cell_type": "code",
   "execution_count": 24,
   "id": "5f1efe38-0e8f-42d8-bddf-29a6bdc7b5d1",
   "metadata": {},
   "outputs": [
    {
     "data": {
      "text/plain": [
       "' World'"
      ]
     },
     "execution_count": 24,
     "metadata": {},
     "output_type": "execute_result"
    }
   ],
   "source": [
    "my_world[6:12]"
   ]
  },
  {
   "cell_type": "code",
   "execution_count": 25,
   "id": "2df8316e-49af-48b0-8920-8c8c51999316",
   "metadata": {},
   "outputs": [
    {
     "data": {
      "text/plain": [
       "'ANSWER11'"
      ]
     },
     "execution_count": 25,
     "metadata": {},
     "output_type": "execute_result"
    }
   ],
   "source": [
    "'''ANSWER11'''"
   ]
  },
  {
   "cell_type": "code",
   "execution_count": 28,
   "id": "6dfc03fe-41fa-4ea3-b0ca-a534efba9e9a",
   "metadata": {},
   "outputs": [],
   "source": [
    "is_student = True \n"
   ]
  },
  {
   "cell_type": "code",
   "execution_count": 29,
   "id": "a1b0da56-c68b-4a31-b634-560203661992",
   "metadata": {},
   "outputs": [
    {
     "data": {
      "text/plain": [
       "bool"
      ]
     },
     "execution_count": 29,
     "metadata": {},
     "output_type": "execute_result"
    }
   ],
   "source": [
    "type(is_student)"
   ]
  },
  {
   "cell_type": "code",
   "execution_count": 31,
   "id": "64d95cdb-5a61-49ef-850a-3eed9fca0d18",
   "metadata": {},
   "outputs": [
    {
     "name": "stdout",
     "output_type": "stream",
     "text": [
      "a student\n"
     ]
    }
   ],
   "source": [
    "if is_student == True :\n",
    "    print('a student')\n",
    "else :\n",
    "        print('not a student ')\n"
   ]
  },
  {
   "cell_type": "code",
   "execution_count": 32,
   "id": "269bbd72-d9ac-4288-8d2f-27985b323ef3",
   "metadata": {},
   "outputs": [],
   "source": [
    "is_student =False"
   ]
  },
  {
   "cell_type": "code",
   "execution_count": 33,
   "id": "9a9add90-fbac-4d05-a9ad-b3164c3d423f",
   "metadata": {},
   "outputs": [
    {
     "name": "stdout",
     "output_type": "stream",
     "text": [
      "not a student \n"
     ]
    }
   ],
   "source": [
    "if is_student == True :\n",
    "    print('a student')\n",
    "else :\n",
    "        print('not a student ')\n"
   ]
  },
  {
   "cell_type": "code",
   "execution_count": null,
   "id": "0e06e746-2dcc-4153-ac6f-30428c829b49",
   "metadata": {},
   "outputs": [],
   "source": []
  }
 ],
 "metadata": {
  "kernelspec": {
   "display_name": "Python 3 (ipykernel)",
   "language": "python",
   "name": "python3"
  },
  "language_info": {
   "codemirror_mode": {
    "name": "ipython",
    "version": 3
   },
   "file_extension": ".py",
   "mimetype": "text/x-python",
   "name": "python",
   "nbconvert_exporter": "python",
   "pygments_lexer": "ipython3",
   "version": "3.10.8"
  }
 },
 "nbformat": 4,
 "nbformat_minor": 5
}
